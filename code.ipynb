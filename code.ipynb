{
 "cells": [
  {
   "cell_type": "code",
   "execution_count": 1,
   "id": "0ccacc59",
   "metadata": {},
   "outputs": [
    {
     "name": "stdout",
     "output_type": "stream",
     "text": [
      "pygame 2.5.2 (SDL 2.28.3, Python 3.11.0)\n",
      "Hello from the pygame community. https://www.pygame.org/contribute.html\n"
     ]
    },
    {
     "name": "stderr",
     "output_type": "stream",
     "text": [
      "C:\\Users\\AKSHITA\\AppData\\Local\\Programs\\Python\\Python311\\Lib\\site-packages\\pydub\\utils.py:170: RuntimeWarning: Couldn't find ffmpeg or avconv - defaulting to ffmpeg, but may not work\n",
      "  warn(\"Couldn't find ffmpeg or avconv - defaulting to ffmpeg, but may not work\", RuntimeWarning)\n"
     ]
    }
   ],
   "source": [
    "import os\n",
    "import gtts\n",
    "import pygame\n",
    "import tempfile\n",
    "import speech_recognition as sr\n",
    "import datetime\n",
    "from pydub import AudioSegment\n",
    "from pydub.playback import play\n",
    "\n"
   ]
  },
  {
   "cell_type": "code",
   "execution_count": 2,
   "id": "52db4be3",
   "metadata": {},
   "outputs": [],
   "source": [
    "# Define a function to speak\n",
    "def speak(audio):\n",
    "    tts = gtts.gTTS(audio)\n",
    "    temp_dir = tempfile.mkdtemp()\n",
    "    file_path = os.path.join(temp_dir, \"helloo.mp3\")\n",
    "    tts.save(file_path)\n",
    "\n",
    "    pygame.mixer.init()\n",
    "    pygame.mixer.music.load(file_path)\n",
    "    pygame.mixer.music.play()\n",
    "    while pygame.mixer.music.get_busy():\n",
    "        pygame.time.Clock().tick(10)\n",
    "\n",
    "    # Release the audio file\n",
    "    pygame.mixer.quit()\n",
    "\n",
    "    # Remove the file\n",
    "    os.remove(file_path)"
   ]
  },
  {
   "cell_type": "code",
   "execution_count": 3,
   "id": "9c200c9e",
   "metadata": {},
   "outputs": [],
   "source": [
    "# Define a function to greet the user based on the time of day\n",
    "def wishMe():\n",
    "    hour = datetime.datetime.now().hour\n",
    "    if 0 <= hour < 12:\n",
    "        speak(\"Good Morning! I am Sofia, your virtual assistant for Rajkiya Engineering College Bijnor. Please tell me how may I help you ?\")\n",
    "    elif 12 <= hour < 18:\n",
    "        speak(\"Good Afternoon! I am Sofia, your virtual assistant for Rajkiya Engineering College Bijnor. Please tell me how may I help you ?\")\n",
    "    else:\n",
    "        speak(\"Good Evening! I am Sofia, your virtual assistant for Rajkiya Engineering College Bijnor. Please tell me how may I help you?\")\n"
   ]
  },
  {
   "cell_type": "code",
   "execution_count": 4,
   "id": "d101c559",
   "metadata": {},
   "outputs": [],
   "source": [
    "# Define a function to get user input\n",
    "def textinput():\n",
    "    query = input(\"You: \")\n",
    "    return query.lower()"
   ]
  },
  {
   "cell_type": "code",
   "execution_count": null,
   "id": "a1f78bfb",
   "metadata": {},
   "outputs": [],
   "source": [
    "if __name__ == \"__main__\":\n",
    "    wishMe()\n",
    "    while True:\n",
    "        query = textinput()  # Accept text input from the user\n",
    "        query_map = {\n",
    "            \"location\": 1,\n",
    "            \"about Bijnor\": 1,\n",
    "            \"many branches\": 4,\n",
    "            \"number of branches\": 4,\n",
    "            \"many seats\" :7,\n",
    "            \"number of seats\": 7,\n",
    "            \"average placement\": 10,\n",
    "            \"HOD of IT\":13,\n",
    "            \"dean of Academics\": 16,\n",
    "            \"HOD of civil\": 19,\n",
    "            \"HOD of electrical\": 22,\n",
    "            \"director of\": 25,\n",
    "            \"infrastructure\": 28,\n",
    "            \"how many hostels\": 31,\n",
    "            \"number of hostel\": 30,\n",
    "            \"affiliated with\": 34,\n",
    "            \"canteen\": 37,\n",
    "            \"how many sports facilities\": 40,\n",
    "            \"what are the sports facilities\": 40,\n",
    "            \"tuition fee\": 43,\n",
    "            \"fee structure\": 43,\n",
    "            \"College is owned\":46,\n",
    "            \"type of college\": 46,\n",
    "            \"established\": 49,\n",
    "            \"campus size\" : 52,\n",
    "            \"total fee\" : 55,\n",
    "          \n",
    "\n",
    "            # Add more queries and line numbers as needed\n",
    "        }\n",
    "        \n",
    "        matched_query = None\n",
    "        for key in query_map:\n",
    "            if key in query:\n",
    "                matched_query = key\n",
    "                break\n",
    "\n",
    "        if matched_query is not None:\n",
    "            line_number = query_map[matched_query]\n",
    "            with open('quesofrecb.txt', 'r') as f:\n",
    "                lines = f.readlines()\n",
    "                if line_number < len(lines):\n",
    "                    response = lines[line_number].strip()\n",
    "                    print(\"Sofia:\", response)\n",
    "                    speak(response)\n",
    "        else :\n",
    "            speak(\"I'm sorry, I don't understand that query.\")"
   ]
  },
  {
   "cell_type": "code",
   "execution_count": null,
   "id": "624bba83",
   "metadata": {},
   "outputs": [],
   "source": []
  },
  {
   "cell_type": "code",
   "execution_count": null,
   "id": "f2cc40fa",
   "metadata": {},
   "outputs": [],
   "source": []
  }
 ],
 "metadata": {
  "kernelspec": {
   "display_name": "Python 3 (ipykernel)",
   "language": "python",
   "name": "python3"
  },
  "language_info": {
   "codemirror_mode": {
    "name": "ipython",
    "version": 3
   },
   "file_extension": ".py",
   "mimetype": "text/x-python",
   "name": "python",
   "nbconvert_exporter": "python",
   "pygments_lexer": "ipython3",
   "version": "3.11.0"
  }
 },
 "nbformat": 4,
 "nbformat_minor": 5
}
